{
 "cells": [
  {
   "cell_type": "code",
   "execution_count": 1,
   "id": "prepared-spectacular",
   "metadata": {},
   "outputs": [
    {
     "data": {
      "text/html": [
       "<style>.container { width:90% !important; }</style>"
      ],
      "text/plain": [
       "<IPython.core.display.HTML object>"
      ]
     },
     "metadata": {},
     "output_type": "display_data"
    }
   ],
   "source": [
    "from IPython.core.display import display, HTML\n",
    "display(HTML(\"<style>.container { width:90% !important; }</style>\"))"
   ]
  },
  {
   "cell_type": "code",
   "execution_count": 2,
   "id": "small-access",
   "metadata": {},
   "outputs": [],
   "source": [
    "import numpy as np\n",
    "import pandas as pd\n",
    "import networkx as nx\n",
    "import matplotlib as mpl\n",
    "import seaborn as sns\n",
    "import matplotlib.pyplot as plt\n",
    "plt.style.use(\"fivethirtyeight\")\n",
    "from tqdm import notebook"
   ]
  },
  {
   "cell_type": "code",
   "execution_count": 3,
   "id": "harmful-america",
   "metadata": {},
   "outputs": [],
   "source": [
    "path_to_edge_list = \"./edge_list.txt\""
   ]
  },
  {
   "cell_type": "code",
   "execution_count": 4,
   "id": "institutional-rocket",
   "metadata": {},
   "outputs": [],
   "source": [
    "G = nx.Graph()\n",
    "with open(path_to_edge_list, \"r\") as edge_list:\n",
    "    edges = []\n",
    "    for line in edge_list:\n",
    "        edges.append(tuple(map(int, line.split())))\n",
    "G.add_edges_from(edges)"
   ]
  },
  {
   "cell_type": "code",
   "execution_count": 5,
   "id": "welcome-monday",
   "metadata": {},
   "outputs": [],
   "source": [
    "mapping = {prev_idx: idx for idx, prev_idx in enumerate(G.nodes)}"
   ]
  },
  {
   "cell_type": "code",
   "execution_count": 6,
   "id": "inclusive-prior",
   "metadata": {},
   "outputs": [],
   "source": [
    "G = nx.relabel_nodes(G, mapping)"
   ]
  },
  {
   "cell_type": "code",
   "execution_count": 7,
   "id": "separate-dublin",
   "metadata": {},
   "outputs": [
    {
     "data": {
      "text/plain": [
       "3953"
      ]
     },
     "execution_count": 7,
     "metadata": {},
     "output_type": "execute_result"
    }
   ],
   "source": [
    "len(G)"
   ]
  },
  {
   "cell_type": "code",
   "execution_count": 9,
   "id": "enclosed-causing",
   "metadata": {},
   "outputs": [],
   "source": [
    "for node in G.nodes:\n",
    "    G.nodes[node][\"status\"] = \"not affected\""
   ]
  },
  {
   "cell_type": "code",
   "execution_count": 10,
   "id": "brown-significance",
   "metadata": {},
   "outputs": [
    {
     "data": {
      "image/png": "[encoded data removed]",
      "text/plain": [
       "<Figure size 432x288 with 1 Axes>"
      ]
     },
     "metadata": {},
     "output_type": "display_data"
    }
   ],
   "source": [
    "nx.draw_spring(G)"
   ]
  },
  {
   "cell_type": "code",
   "execution_count": 24,
   "id": "paperback-vermont",
   "metadata": {},
   "outputs": [
    {
     "data": {
      "text/plain": [
       "1944"
      ]
     },
     "execution_count": 24,
     "metadata": {},
     "output_type": "execute_result"
    }
   ],
   "source": [
    "mapping[377]"
   ]
  },
  {
   "cell_type": "code",
   "execution_count": 25,
   "id": "outdoor-stroke",
   "metadata": {},
   "outputs": [],
   "source": [
    "comms = [comm for comm in nx.connected_components(G) if 1944 in comm]"
   ]
  },
  {
   "cell_type": "code",
   "execution_count": 28,
   "id": "cloudy-sculpture",
   "metadata": {},
   "outputs": [
    {
     "data": {
      "text/plain": [
       "3732"
      ]
     },
     "execution_count": 28,
     "metadata": {},
     "output_type": "execute_result"
    }
   ],
   "source": [
    "len(comms[0])"
   ]
  },
  {
   "cell_type": "code",
   "execution_count": 29,
   "id": "racial-thousand",
   "metadata": {},
   "outputs": [],
   "source": [
    "ultra_cool_nodes = comms[0]"
   ]
  },
  {
   "cell_type": "code",
   "execution_count": 12,
   "id": "indonesian-vienna",
   "metadata": {},
   "outputs": [
    {
     "name": "stdout",
     "output_type": "stream",
     "text": [
      "0 759 759\n",
      "1 508 1267\n",
      "2 505 1772\n",
      "3 469 2241\n",
      "4 327 2568\n",
      "5 267 2835\n",
      "6 231 3066\n",
      "7 221 3287\n",
      "8 180 3467\n",
      "9 158 3625\n",
      "10 108 3733\n",
      "11 45 3778\n",
      "12 28 3806\n",
      "13 25 3831\n",
      "14 23 3854\n",
      "15 18 3872\n",
      "16 10 3882\n",
      "17 10 3892\n",
      "18 9 3901\n",
      "19 8 3909\n",
      "20 6 3915\n",
      "21 6 3921\n",
      "22 4 3925\n",
      "23 3 3928\n",
      "24 3 3931\n",
      "25 3 3934\n",
      "26 3 3937\n",
      "27 2 3939\n",
      "28 2 3941\n",
      "29 2 3943\n",
      "30 2 3945\n",
      "31 2 3947\n",
      "32 2 3949\n",
      "33 2 3951\n",
      "34 2 3953\n"
     ]
    }
   ],
   "source": [
    "# cum_sum = 0\n",
    "# ultra_cool_nodes = []\n",
    "# for idx, comm in enumerate(comms):\n",
    "#     if idx < 5:\n",
    "#         ultra_cool_nodes.extend(list(comms[idx]))\n",
    "#     cum_sum += len(comms[idx])\n",
    "#     print(idx, len(comms[idx]), cum_sum)"
   ]
  },
  {
   "cell_type": "code",
   "execution_count": 13,
   "id": "united-dancing",
   "metadata": {},
   "outputs": [
    {
     "data": {
      "image/png": "[encoded data removed]",
      "text/plain": [
       "<Figure size 1440x720 with 2 Axes>"
      ]
     },
     "metadata": {},
     "output_type": "display_data"
    }
   ],
   "source": [
    "fig, ax = plt.subplots(1, 2, figsize=(20, 10))\n",
    "ax[0].hist(list(dict(G.degree).values()), bins=\"auto\")\n",
    "ax[0].set_title(\"Degree distribution\")\n",
    "ax[1].hist(np.log(list(dict(G.degree).values())), bins=\"auto\")\n",
    "ax[1].set_title(\"Log Degree distribution\")\n",
    "plt.draw()"
   ]
  },
  {
   "cell_type": "code",
   "execution_count": 14,
   "id": "further-record",
   "metadata": {},
   "outputs": [
    {
     "data": {
      "text/plain": [
       "0.6308640875493834"
      ]
     },
     "execution_count": 14,
     "metadata": {},
     "output_type": "execute_result"
    }
   ],
   "source": [
    "nx.algorithms.assortativity.degree_assortativity_coefficient(G)"
   ]
  },
  {
   "cell_type": "code",
   "execution_count": 31,
   "id": "packed-duncan",
   "metadata": {},
   "outputs": [],
   "source": [
    "BUDGET = 10000\n",
    "CONTRACT_COST_BY_ONE_NEIGHBOR = 300\n",
    "INCOME_PER_PERSON = 50\n",
    "EXPOSURE_THRESHOLD = 0.18\n",
    "CONTRACT_LIMIT_PER_DAY = 10\n",
    "DAY_LIMIT = 60\n",
    "\n",
    "thresholds = [EXPOSURE_THRESHOLD for _ in range(len(G))]"
   ]
  },
  {
   "cell_type": "code",
   "execution_count": 12,
   "id": "corrected-malta",
   "metadata": {},
   "outputs": [],
   "source": [
    "# def linear_threshold(G, active_nodes, thresholds):\n",
    "#     # YOUR CODE HERE\n",
    "#     # raise NotImplementedError()\n",
    "#     result =[active_nodes]\n",
    "#     current_active_nodes = active_nodes.copy()\n",
    "#     while True:\n",
    "#         active_nodes = current_active_nodes.copy()\n",
    "#         for n in G.nodes:\n",
    "#             if current_active_nodes[n] != 1:\n",
    "#                 neighbors = [i for i in G.neighbors(n)]\n",
    "#                 if  np.sum(active_nodes[neighbors])/len(neighbors) >= thresholds[n]:\n",
    "#                     current_active_nodes[n] = 1\n",
    "#         result.append(current_active_nodes.copy())\n",
    "#         if np.all(active_nodes == current_active_nodes):\n",
    "#             break\n",
    "#     return np.array(result)\n",
    "\n",
    "# def greedy_influence_max(G, thresholds, k):\n",
    "#     A = set()\n",
    "#     active_nodes = np.zeros(len(G))\n",
    "#     while np.sum(active_nodes) < k:\n",
    "#         max_influence = 0\n",
    "#         best_node = None\n",
    "#         for n in G.nodes:\n",
    "#             if n not in A:\n",
    "#                 current_active_nodes = active_nodes.copy()\n",
    "#                 current_active_nodes[n] = 1\n",
    "#                 influence = np.sum(linear_threshold(G, current_active_nodes, thresholds)[:,-1])\n",
    "#                 if max_influence < influence:\n",
    "#                     max_influence = influence\n",
    "#                     best_node = n\n",
    "#         A.add(best_node)\n",
    "#         active_nodes[list(A)] = 1\n",
    "#     return active_nodes"
   ]
  },
  {
   "cell_type": "code",
   "execution_count": 72,
   "id": "organized-jackson",
   "metadata": {},
   "outputs": [
    {
     "data": {
      "text/plain": [
       "57"
      ]
     },
     "execution_count": 72,
     "metadata": {},
     "output_type": "execute_result"
    }
   ],
   "source": [
    "G.degree[1237]"
   ]
  },
  {
   "cell_type": "code",
   "execution_count": 70,
   "id": "indoor-brooks",
   "metadata": {},
   "outputs": [
    {
     "data": {
      "text/plain": [
       "1"
      ]
     },
     "execution_count": 70,
     "metadata": {},
     "output_type": "execute_result"
    }
   ],
   "source": [
    "G.degree[3952]"
   ]
  },
  {
   "cell_type": "code",
   "execution_count": 32,
   "id": "laughing-fraction",
   "metadata": {},
   "outputs": [],
   "source": [
    "from collections import defaultdict"
   ]
  },
  {
   "cell_type": "code",
   "execution_count": 33,
   "id": "interstate-career",
   "metadata": {},
   "outputs": [],
   "source": [
    "degree_dict = defaultdict(set)\n",
    "for node, deg in G.degree:\n",
    "    degree_dict[deg].add(node)"
   ]
  },
  {
   "cell_type": "code",
   "execution_count": 168,
   "id": "hawaiian-outside",
   "metadata": {},
   "outputs": [],
   "source": [
    "G = deepcopy(G_copy)\n",
    "node_with_cool_neighbor = defaultdict(set)\n",
    "for node in ultra_cool_nodes:\n",
    "    try:\n",
    "        max_deg_by_cond = max([G.degree(n) for n in G.neighbors(node)])\n",
    "        if max_deg_by_cond / G.degree[node] >= 5 and (G.degree[node] * CONTRACT_COST_BY_ONE_NEIGHBOR <= 10000):\n",
    "            node_with_cool_neighbor[max_deg_by_cond].add(node)\n",
    "    except ValueError as e:\n",
    "        continue"
   ]
  },
  {
   "cell_type": "code",
   "execution_count": 169,
   "id": "unexpected-relaxation",
   "metadata": {},
   "outputs": [
    {
     "name": "stdout",
     "output_type": "stream",
     "text": [
      "3840 5\n",
      "3841 5\n",
      "3842 1\n",
      "3843 1\n",
      "3364 3\n",
      "3844 3\n",
      "3721 5\n",
      "3403 4\n",
      "2731 2\n",
      "1774 2\n",
      "150 2\n",
      "3838 6\n"
     ]
    }
   ],
   "source": [
    "s = 0\n",
    "for node in node_with_cool_neighbor[30]:\n",
    "    s += G.degree(node)\n",
    "    print(node, G.degree(node))"
   ]
  },
  {
   "cell_type": "code",
   "execution_count": 170,
   "id": "inclusive-tender",
   "metadata": {},
   "outputs": [
    {
     "data": {
      "text/plain": [
       "defaultdict(set,\n",
       "            {68: {2,\n",
       "              11,\n",
       "              149,\n",
       "              165,\n",
       "              173,\n",
       "              174,\n",
       "              175,\n",
       "              176,\n",
       "              183,\n",
       "              244,\n",
       "              245,\n",
       "              246,\n",
       "              1508,\n",
       "              1561,\n",
       "              2758},\n",
       "             75: {17,\n",
       "              43,\n",
       "              50,\n",
       "              76,\n",
       "              92,\n",
       "              94,\n",
       "              120,\n",
       "              1536,\n",
       "              1689,\n",
       "              1906,\n",
       "              2388,\n",
       "              2635,\n",
       "              2720,\n",
       "              2766,\n",
       "              3445,\n",
       "              3806},\n",
       "             64: {20,\n",
       "              77,\n",
       "              87,\n",
       "              136,\n",
       "              162,\n",
       "              164,\n",
       "              172,\n",
       "              207,\n",
       "              235,\n",
       "              240,\n",
       "              241,\n",
       "              243,\n",
       "              399,\n",
       "              1238,\n",
       "              1525,\n",
       "              3287,\n",
       "              3620,\n",
       "              3622},\n",
       "             72: {26, 30, 78, 122, 127, 1317},\n",
       "             77: {37,\n",
       "              55,\n",
       "              59,\n",
       "              80,\n",
       "              86,\n",
       "              124,\n",
       "              128,\n",
       "              135,\n",
       "              141,\n",
       "              179,\n",
       "              202,\n",
       "              1603,\n",
       "              2637},\n",
       "             71: {42, 163, 166, 180, 181, 2577, 2643, 2673},\n",
       "             62: {64,\n",
       "              1586,\n",
       "              1878,\n",
       "              2644,\n",
       "              2651,\n",
       "              2659,\n",
       "              2732,\n",
       "              2749,\n",
       "              2751,\n",
       "              2752,\n",
       "              2753,\n",
       "              2808,\n",
       "              2830,\n",
       "              3288},\n",
       "             131: {71, 83, 84, 85, 138, 139, 143, 160, 168, 233, 242},\n",
       "             46: {89, 90, 1719, 1877, 3739, 3741, 3898},\n",
       "             54: {144, 1915, 2817, 2818, 2819, 2820, 2821, 3208},\n",
       "             67: {147},\n",
       "             30: {150,\n",
       "              1774,\n",
       "              2731,\n",
       "              3364,\n",
       "              3403,\n",
       "              3721,\n",
       "              3838,\n",
       "              3840,\n",
       "              3841,\n",
       "              3842,\n",
       "              3843,\n",
       "              3844},\n",
       "             61: {151, 152, 154, 157, 232, 234, 236, 237, 238, 239, 2796},\n",
       "             42: {155, 156, 169, 1887, 1900, 3419, 3753, 3854},\n",
       "             29: {158, 1701, 2801, 3635, 3874, 3886},\n",
       "             38: {159},\n",
       "             43: {167, 182, 270},\n",
       "             17: {177, 3932},\n",
       "             58: {178, 1680, 1691, 1884, 1925, 1931, 2767, 2782, 3645, 3857},\n",
       "             16: {184, 192, 210, 213, 214, 215, 216, 268, 1831, 3803},\n",
       "             45: {185, 2816, 2846},\n",
       "             35: {247, 1916, 1917},\n",
       "             26: {248, 1851, 1856, 3368, 3422, 3430, 3440},\n",
       "             25: {263,\n",
       "              264,\n",
       "              265,\n",
       "              266,\n",
       "              391,\n",
       "              1698,\n",
       "              1838,\n",
       "              1899,\n",
       "              2695,\n",
       "              2811,\n",
       "              2812,\n",
       "              3679,\n",
       "              3702,\n",
       "              3855,\n",
       "              3856},\n",
       "             222: {291, 3173},\n",
       "             163: {330},\n",
       "             20: {385, 1932, 1933, 3892},\n",
       "             48: {393, 398, 3437, 3465, 3665, 3754, 3799, 3802},\n",
       "             22: {394, 404, 2188, 2190, 3406},\n",
       "             19: {395, 400, 401, 402, 403, 405},\n",
       "             114: {397,\n",
       "              808,\n",
       "              811,\n",
       "              814,\n",
       "              1626,\n",
       "              1726,\n",
       "              2433,\n",
       "              2587,\n",
       "              2588,\n",
       "              2589,\n",
       "              2590,\n",
       "              2592,\n",
       "              2593,\n",
       "              2594},\n",
       "             13: {406, 1871, 3884, 3937},\n",
       "             8: {408, 440, 792, 3941},\n",
       "             15: {413, 414, 415, 418, 1721, 3863, 3867, 3871, 3873},\n",
       "             12: {421, 448, 2793, 3811, 3860, 3895},\n",
       "             7: {425, 449, 3404, 3405, 3888},\n",
       "             111: {433, 435, 437, 849, 1244, 1645, 1663, 1666, 1738, 1743},\n",
       "             33: {438, 2872, 2873, 3299},\n",
       "             11: {441, 2875, 2876, 3812},\n",
       "             5: {460},\n",
       "             108: {518, 3325},\n",
       "             208: {580, 764, 799, 806},\n",
       "             253: {623, 637, 736, 772, 779, 802, 804, 1306},\n",
       "             184: {676},\n",
       "             200: {712, 783, 786, 1556, 1558, 3110, 3111},\n",
       "             234: {722, 766, 805, 1376},\n",
       "             219: {760,\n",
       "              815,\n",
       "              993,\n",
       "              1365,\n",
       "              1372,\n",
       "              1381,\n",
       "              1437,\n",
       "              1438,\n",
       "              1439,\n",
       "              1440,\n",
       "              1441,\n",
       "              1442,\n",
       "              1443},\n",
       "             244: {763, 797, 800, 813, 1158, 1367, 1491},\n",
       "             185: {774, 775},\n",
       "             188: {778, 1309, 1364},\n",
       "             204: {785,\n",
       "              861,\n",
       "              1025,\n",
       "              1089,\n",
       "              1110,\n",
       "              1311,\n",
       "              1413,\n",
       "              1596,\n",
       "              3127,\n",
       "              3132,\n",
       "              3137,\n",
       "              3139,\n",
       "              3144,\n",
       "              3147,\n",
       "              3153,\n",
       "              3217,\n",
       "              3221,\n",
       "              3222,\n",
       "              3225,\n",
       "              3226,\n",
       "              3252,\n",
       "              3259,\n",
       "              3262,\n",
       "              3290,\n",
       "              3291,\n",
       "              3297,\n",
       "              3298,\n",
       "              3300,\n",
       "              3301,\n",
       "              3302,\n",
       "              3305,\n",
       "              3306,\n",
       "              3307,\n",
       "              3308,\n",
       "              3309,\n",
       "              3310,\n",
       "              3311,\n",
       "              3312,\n",
       "              3313,\n",
       "              3314,\n",
       "              3315,\n",
       "              3316,\n",
       "              3317,\n",
       "              3318,\n",
       "              3319,\n",
       "              3320,\n",
       "              3321,\n",
       "              3322},\n",
       "             66: {787,\n",
       "              1283,\n",
       "              1516,\n",
       "              1539,\n",
       "              2193,\n",
       "              2393,\n",
       "              2686,\n",
       "              2688,\n",
       "              2809,\n",
       "              3489,\n",
       "              3584,\n",
       "              3628,\n",
       "              3742},\n",
       "             102: {790, 1627, 1669, 2392, 2743},\n",
       "             172: {793, 3399},\n",
       "             168: {794, 812, 1489, 1490},\n",
       "             233: {798, 3063, 3123, 3125, 3157, 3207, 3232, 3233, 3284, 3304},\n",
       "             153: {801, 1251, 1370, 1384, 1388, 1389},\n",
       "             189: {803, 1289, 1295, 1548},\n",
       "             121: {807,\n",
       "              1272,\n",
       "              1623,\n",
       "              1730,\n",
       "              2386,\n",
       "              2416,\n",
       "              2562,\n",
       "              2567,\n",
       "              2601,\n",
       "              2665,\n",
       "              2718,\n",
       "              3303},\n",
       "             129: {817,\n",
       "              1034,\n",
       "              1062,\n",
       "              1064,\n",
       "              1080,\n",
       "              1085,\n",
       "              1090,\n",
       "              1093,\n",
       "              1234,\n",
       "              1451,\n",
       "              1452,\n",
       "              1468,\n",
       "              1568,\n",
       "              1569,\n",
       "              1570,\n",
       "              1734,\n",
       "              3240},\n",
       "             228: {826,\n",
       "              829,\n",
       "              831,\n",
       "              833,\n",
       "              835,\n",
       "              841,\n",
       "              844,\n",
       "              845,\n",
       "              853,\n",
       "              854,\n",
       "              873,\n",
       "              886,\n",
       "              899,\n",
       "              919,\n",
       "              924,\n",
       "              930,\n",
       "              987,\n",
       "              1047,\n",
       "              1114,\n",
       "              1115,\n",
       "              1120,\n",
       "              1126,\n",
       "              1127,\n",
       "              1129,\n",
       "              1139,\n",
       "              1140,\n",
       "              1141,\n",
       "              1144,\n",
       "              1145,\n",
       "              1150,\n",
       "              1152,\n",
       "              1153,\n",
       "              1155,\n",
       "              1156,\n",
       "              1159,\n",
       "              1160,\n",
       "              1161,\n",
       "              1165,\n",
       "              1167,\n",
       "              1168,\n",
       "              1169,\n",
       "              1172,\n",
       "              1185,\n",
       "              1188,\n",
       "              1195,\n",
       "              1207,\n",
       "              1211,\n",
       "              1220,\n",
       "              1224,\n",
       "              1225,\n",
       "              1226,\n",
       "              1228,\n",
       "              1231,\n",
       "              1232,\n",
       "              1233},\n",
       "             120: {847,\n",
       "              1069,\n",
       "              1099,\n",
       "              1109,\n",
       "              1136,\n",
       "              1286,\n",
       "              1288,\n",
       "              1290,\n",
       "              1291,\n",
       "              1292,\n",
       "              1293,\n",
       "              1312,\n",
       "              1319,\n",
       "              1567,\n",
       "              1605,\n",
       "              1615,\n",
       "              1617},\n",
       "             94: {869, 1095, 1239, 1597, 1612, 1732, 2488, 2717},\n",
       "             210: {958, 1077, 1287, 1579},\n",
       "             225: {994, 1444, 1445, 1546, 1572, 1588},\n",
       "             130: {997,\n",
       "              1323,\n",
       "              1327,\n",
       "              1332,\n",
       "              1333,\n",
       "              1334,\n",
       "              1335,\n",
       "              1336,\n",
       "              1337,\n",
       "              1338,\n",
       "              1340,\n",
       "              1342,\n",
       "              1343,\n",
       "              1347,\n",
       "              1354,\n",
       "              1359,\n",
       "              1585,\n",
       "              1631,\n",
       "              1637,\n",
       "              1649,\n",
       "              1664,\n",
       "              1779,\n",
       "              1780,\n",
       "              1844,\n",
       "              1845,\n",
       "              1846,\n",
       "              1847,\n",
       "              1848,\n",
       "              1849,\n",
       "              2566,\n",
       "              2572,\n",
       "              2807},\n",
       "             123: {1007},\n",
       "             125: {1009, 1235},\n",
       "             69: {1063,\n",
       "              1315,\n",
       "              1449,\n",
       "              1581,\n",
       "              1583,\n",
       "              1584,\n",
       "              1624,\n",
       "              1902,\n",
       "              2727,\n",
       "              2768,\n",
       "              2775,\n",
       "              2776,\n",
       "              2786,\n",
       "              2788,\n",
       "              2789,\n",
       "              2790,\n",
       "              2795,\n",
       "              2828,\n",
       "              3365},\n",
       "             89: {1086, 1098, 1104},\n",
       "             57: {1236,\n",
       "              1242,\n",
       "              1246,\n",
       "              1247,\n",
       "              1249,\n",
       "              1252,\n",
       "              1256,\n",
       "              1258,\n",
       "              1259,\n",
       "              1260,\n",
       "              1263,\n",
       "              1265,\n",
       "              1273,\n",
       "              1275,\n",
       "              1276,\n",
       "              2744,\n",
       "              2787,\n",
       "              3348,\n",
       "              3566,\n",
       "              3831,\n",
       "              3834,\n",
       "              3845,\n",
       "              3846,\n",
       "              3847,\n",
       "              3868},\n",
       "             181: {1241, 1307, 1308, 1385},\n",
       "             105: {1243, 1622, 1650, 1706, 1710, 1711, 2518, 2692, 2699},\n",
       "             165: {1250, 3179},\n",
       "             65: {1257, 1791, 1908, 1911, 2750},\n",
       "             100: {1269, 1616, 1668, 2738, 2746},\n",
       "             115: {1277,\n",
       "              2471,\n",
       "              2482,\n",
       "              2486,\n",
       "              2585,\n",
       "              2596,\n",
       "              2599,\n",
       "              2690,\n",
       "              2709,\n",
       "              2734,\n",
       "              2735},\n",
       "             82: {1304, 2555, 2575, 2701, 2780, 3752},\n",
       "             56: {1310, 1571, 1577, 1673, 1674, 1863},\n",
       "             216: {1313},\n",
       "             81: {1314, 1316, 1560, 1699, 1893, 2383},\n",
       "             98: {1320, 1544, 1555, 1608, 1629, 2387, 2755},\n",
       "             119: {1321, 1328, 1352, 1355, 1358},\n",
       "             113: {1362, 1563, 1628, 1690, 1720},\n",
       "             155: {1374, 1378, 3289},\n",
       "             44: {1382, 1679, 1707, 3798, 3859, 3869, 3870},\n",
       "             127: {1386},\n",
       "             99: {1460},\n",
       "             148: {1496},\n",
       "             107: {1540,\n",
       "              2196,\n",
       "              2630,\n",
       "              2632,\n",
       "              2660,\n",
       "              2693,\n",
       "              2694,\n",
       "              2700,\n",
       "              3202,\n",
       "              3486,\n",
       "              3487,\n",
       "              3500,\n",
       "              3506,\n",
       "              3509,\n",
       "              3514,\n",
       "              3518,\n",
       "              3617,\n",
       "              3619,\n",
       "              3621,\n",
       "              3625,\n",
       "              3627,\n",
       "              3631,\n",
       "              3632,\n",
       "              3633,\n",
       "              3634,\n",
       "              3640,\n",
       "              3701,\n",
       "              3723,\n",
       "              3724,\n",
       "              3725,\n",
       "              3726,\n",
       "              3727,\n",
       "              3728,\n",
       "              3730,\n",
       "              3731,\n",
       "              3732,\n",
       "              3733,\n",
       "              3734,\n",
       "              3735,\n",
       "              3736,\n",
       "              3737,\n",
       "              3740,\n",
       "              3755,\n",
       "              3756,\n",
       "              3757,\n",
       "              3758,\n",
       "              3759,\n",
       "              3760,\n",
       "              3761,\n",
       "              3762,\n",
       "              3763,\n",
       "              3764,\n",
       "              3765,\n",
       "              3766,\n",
       "              3767},\n",
       "             52: {1545},\n",
       "             197: {1547, 1590},\n",
       "             36: {1552, 1573},\n",
       "             78: {1557, 1559, 2583},\n",
       "             31: {1566, 1618, 1914, 2628, 2636, 3744},\n",
       "             146: {1576},\n",
       "             147: {1578},\n",
       "             177: {1580},\n",
       "             60: {1587,\n",
       "              1903,\n",
       "              1904,\n",
       "              1907,\n",
       "              3595,\n",
       "              3626,\n",
       "              3630,\n",
       "              3641,\n",
       "              3797,\n",
       "              3893,\n",
       "              3899},\n",
       "             141: {1589, 3228},\n",
       "             53: {1599, 1709, 3326, 3328, 3331, 3335, 3339},\n",
       "             41: {1600, 1602, 1702},\n",
       "             50: {1625, 1735, 1827},\n",
       "             87: {1632,\n",
       "              1634,\n",
       "              1639,\n",
       "              1641,\n",
       "              1644,\n",
       "              1647,\n",
       "              1651,\n",
       "              1654,\n",
       "              1655,\n",
       "              1656,\n",
       "              1659,\n",
       "              1660,\n",
       "              1667,\n",
       "              1901,\n",
       "              2757},\n",
       "             97: {1652, 1658, 1678, 1888, 1895, 1896},\n",
       "             73: {1670},\n",
       "             34: {1672, 1775, 3462},\n",
       "             70: {1675, 2792, 2815, 3345},\n",
       "             59: {1694, 2783},\n",
       "             135: {1703},\n",
       "             37: {1704, 1705, 3709, 3745, 3805, 3877},\n",
       "             14: {1733, 3794},\n",
       "             23: {1736, 3409, 3410, 3878},\n",
       "             293: {1747, 1804, 1809, 1815, 1822, 1824, 1825, 3117, 3282, 3283},\n",
       "             223: {1759, 3156},\n",
       "             290: {1766, 3170, 3214, 3231},\n",
       "             6: {1772, 3921, 3923},\n",
       "             40: {1776, 1777, 1778, 1976, 1985},\n",
       "             101: {1799,\n",
       "              1837,\n",
       "              1852,\n",
       "              2402,\n",
       "              2406,\n",
       "              2411,\n",
       "              2421,\n",
       "              2436,\n",
       "              2440,\n",
       "              2443,\n",
       "              2444,\n",
       "              2449,\n",
       "              2537},\n",
       "             187: {1810, 1816, 1821, 3209, 3210, 3280, 3285},\n",
       "             79: {1826, 2609},\n",
       "             112: {1829,\n",
       "              1830,\n",
       "              2552,\n",
       "              2554,\n",
       "              2612,\n",
       "              2619,\n",
       "              2622,\n",
       "              2623,\n",
       "              2625,\n",
       "              2627,\n",
       "              2671,\n",
       "              2711,\n",
       "              2712},\n",
       "             93: {1833, 3218},\n",
       "             10: {1836, 2874, 3393, 3902, 3934},\n",
       "             88: {1865, 2489, 2649, 2656, 2745, 2748, 2772, 2774},\n",
       "             92: {1897, 1909, 2360, 2641},\n",
       "             9: {1940},\n",
       "             24: {1986, 2778},\n",
       "             18: {1987, 3770, 3897},\n",
       "             55: {2189, 3629, 3642, 3644},\n",
       "             136: {2290,\n",
       "              2330,\n",
       "              2345,\n",
       "              2370,\n",
       "              2380,\n",
       "              2507,\n",
       "              2550,\n",
       "              2558,\n",
       "              2561,\n",
       "              2564,\n",
       "              2565,\n",
       "              2573,\n",
       "              2574,\n",
       "              2576,\n",
       "              2736},\n",
       "             106: {2400,\n",
       "              2548,\n",
       "              2616,\n",
       "              2687,\n",
       "              2689,\n",
       "              2698,\n",
       "              2721,\n",
       "              2722,\n",
       "              2724,\n",
       "              2726,\n",
       "              2761,\n",
       "              2763},\n",
       "             118: {2401, 2410, 2591, 2654, 2683, 2715, 2747, 2760},\n",
       "             103: {2452,\n",
       "              2493,\n",
       "              2500,\n",
       "              2501,\n",
       "              2600,\n",
       "              2668,\n",
       "              2677,\n",
       "              2678,\n",
       "              2679,\n",
       "              2680,\n",
       "              2681,\n",
       "              2682},\n",
       "             90: {2463, 2703, 2729, 2730, 2764, 2794},\n",
       "             104: {2522, 3265},\n",
       "             49: {2662, 2666, 2667, 2669, 2847, 3738, 3772, 3778, 3779},\n",
       "             85: {2697,\n",
       "              3496,\n",
       "              3497,\n",
       "              3505,\n",
       "              3508,\n",
       "              3525,\n",
       "              3529,\n",
       "              3532,\n",
       "              3542,\n",
       "              3546,\n",
       "              3551,\n",
       "              3553},\n",
       "             74: {2756},\n",
       "             86: {2813},\n",
       "             32: {2814, 3800},\n",
       "             221: {3118, 3146, 3148},\n",
       "             126: {3131, 3220},\n",
       "             158: {3135, 3293, 3294, 3295},\n",
       "             159: {3143, 3149, 3269, 3324},\n",
       "             174: {3183, 3219, 3250, 3279},\n",
       "             190: {3191, 3200, 3356},\n",
       "             76: {3197},\n",
       "             176: {3203},\n",
       "             202: {3206},\n",
       "             206: {3234},\n",
       "             183: {3235},\n",
       "             160: {3236, 3237, 3238, 3239},\n",
       "             133: {3251},\n",
       "             116: {3253},\n",
       "             84: {3254,\n",
       "              3257,\n",
       "              3341,\n",
       "              3357,\n",
       "              3360,\n",
       "              3363,\n",
       "              3366,\n",
       "              3369,\n",
       "              3370,\n",
       "              3372,\n",
       "              3373,\n",
       "              3374,\n",
       "              3375,\n",
       "              3376,\n",
       "              3377,\n",
       "              3378,\n",
       "              3379,\n",
       "              3380,\n",
       "              3381,\n",
       "              3382,\n",
       "              3383,\n",
       "              3384,\n",
       "              3385,\n",
       "              3387,\n",
       "              3388,\n",
       "              3391,\n",
       "              3401,\n",
       "              3402},\n",
       "             220: {3277},\n",
       "             171: {3278},\n",
       "             162: {3323},\n",
       "             95: {3334, 3350, 3351, 3352, 3353, 3354, 3355},\n",
       "             91: {3358},\n",
       "             47: {3670, 3808, 3883},\n",
       "             21: {3788, 3835, 3885}})"
      ]
     },
     "execution_count": 170,
     "metadata": {},
     "output_type": "execute_result"
    }
   ],
   "source": [
    "node_with_cool_neighbor"
   ]
  },
  {
   "cell_type": "code",
   "execution_count": 84,
   "id": "foreign-slope",
   "metadata": {},
   "outputs": [
    {
     "data": {
      "text/plain": [
       "1"
      ]
     },
     "execution_count": 84,
     "metadata": {},
     "output_type": "execute_result"
    }
   ],
   "source": [
    "G.degree[997]"
   ]
  },
  {
   "cell_type": "code",
   "execution_count": 85,
   "id": "french-specific",
   "metadata": {},
   "outputs": [
    {
     "data": {
      "text/plain": [
       "1"
      ]
     },
     "execution_count": 85,
     "metadata": {},
     "output_type": "execute_result"
    }
   ],
   "source": [
    "G.degree[1308]"
   ]
  },
  {
   "cell_type": "code",
   "execution_count": 86,
   "id": "constant-blowing",
   "metadata": {},
   "outputs": [
    {
     "data": {
      "text/plain": [
       "1"
      ]
     },
     "execution_count": 86,
     "metadata": {},
     "output_type": "execute_result"
    }
   ],
   "source": [
    "G.degree[2680]"
   ]
  },
  {
   "cell_type": "code",
   "execution_count": 34,
   "id": "material-amino",
   "metadata": {},
   "outputs": [],
   "source": [
    "def affect_nodes(G, nodes_to_affect):\n",
    "    money = INCOME_PER_PERSON * len(nodes_to_affect)\n",
    "    for node in nodes_to_affect:\n",
    "        G.nodes[node][\"status\"] = \"affected\"\n",
    "    return money\n",
    "\n",
    "def get_amount_of_affected_nodes(G, node):\n",
    "    neighbors = list(G.neighbors(node))\n",
    "    amount = sum([1 if G.nodes[neigh][\"status\"] == \"affected\" else 0 for neigh in neighbors])\n",
    "    return amount, len(neighbors)"
   ]
  },
  {
   "cell_type": "code",
   "execution_count": 35,
   "id": "static-alaska",
   "metadata": {},
   "outputs": [],
   "source": [
    "# from copy import deepcopy\n",
    "# G_copy = deepcopy(G)"
   ]
  },
  {
   "cell_type": "code",
   "execution_count": 73,
   "id": "tamil-tractor",
   "metadata": {},
   "outputs": [
    {
     "data": {
      "text/plain": [
       "97"
      ]
     },
     "execution_count": 73,
     "metadata": {},
     "output_type": "execute_result"
    }
   ],
   "source": [
    "len(degree_dict[1])"
   ]
  },
  {
   "cell_type": "code",
   "execution_count": 210,
   "id": "accurate-rugby",
   "metadata": {},
   "outputs": [
    {
     "name": "stdout",
     "output_type": "stream",
     "text": [
      "1918 5\n",
      "1920 5\n",
      "2882 14\n",
      "1870 0\n",
      "3858 2\n",
      "460 4\n"
     ]
    }
   ],
   "source": [
    "for node in history[0]:\n",
    "    for idx, comm in enumerate(comms):\n",
    "        if node in comm:\n",
    "            print(node, idx)"
   ]
  },
  {
   "cell_type": "code",
   "execution_count": 114,
   "id": "soviet-response",
   "metadata": {},
   "outputs": [
    {
     "data": {
      "text/plain": [
       "387"
      ]
     },
     "execution_count": 114,
     "metadata": {},
     "output_type": "execute_result"
    }
   ],
   "source": [
    "mapping[167]"
   ]
  },
  {
   "cell_type": "code",
   "execution_count": 115,
   "id": "australian-retreat",
   "metadata": {},
   "outputs": [
    {
     "data": {
      "text/plain": [
       "1782"
      ]
     },
     "execution_count": 115,
     "metadata": {},
     "output_type": "execute_result"
    }
   ],
   "source": [
    "mapping[3057]"
   ]
  },
  {
   "cell_type": "code",
   "execution_count": 116,
   "id": "concerned-upset",
   "metadata": {},
   "outputs": [
    {
     "data": {
      "text/plain": [
       "3706"
      ]
     },
     "execution_count": 116,
     "metadata": {},
     "output_type": "execute_result"
    }
   ],
   "source": [
    "mapping[3775]"
   ]
  },
  {
   "cell_type": "code",
   "execution_count": 141,
   "id": "danish-inquiry",
   "metadata": {},
   "outputs": [
    {
     "data": {
      "text/plain": [
       "22"
      ]
     },
     "execution_count": 141,
     "metadata": {},
     "output_type": "execute_result"
    }
   ],
   "source": [
    "len(node_with_cool_neighbor[30])"
   ]
  },
  {
   "cell_type": "code",
   "execution_count": 148,
   "id": "administrative-holly",
   "metadata": {},
   "outputs": [
    {
     "data": {
      "text/plain": [
       "[3840, 3841, 3842, 3843, 3844, 3721, 3345, 150, 3364, 2731]"
      ]
     },
     "execution_count": 148,
     "metadata": {},
     "output_type": "execute_result"
    }
   ],
   "source": [
    "list(node_with_cool_neighbor[30])[:10]"
   ]
  },
  {
   "cell_type": "code",
   "execution_count": 149,
   "id": "robust-tackle",
   "metadata": {},
   "outputs": [
    {
     "data": {
      "text/plain": [
       "[1709, 182, 1602, 2628, 3403, 2636, 3800, 2662, 2666, 2667, 1774]"
      ]
     },
     "execution_count": 149,
     "metadata": {},
     "output_type": "execute_result"
    }
   ],
   "source": [
    "list(node_with_cool_neighbor[30])[10:21]"
   ]
  },
  {
   "cell_type": "code",
   "execution_count": 150,
   "id": "about-spanish",
   "metadata": {},
   "outputs": [
    {
     "data": {
      "text/plain": [
       "[3838]"
      ]
     },
     "execution_count": 150,
     "metadata": {},
     "output_type": "execute_result"
    }
   ],
   "source": [
    "list(node_with_cool_neighbor[30])[21:]"
   ]
  },
  {
   "cell_type": "code",
   "execution_count": 151,
   "id": "median-superintendent",
   "metadata": {},
   "outputs": [],
   "source": [
    "to_affect = [[3840, 3841, 3842, 3843, 3844, 3721, 3345, 150, 3364, 2731], [1709, 182, 1602, 2628, 3403, 2636, 3800, 2662, 2666, 2667, 1774], [3838]]"
   ]
  },
  {
   "cell_type": "code",
   "execution_count": 167,
   "id": "ahead-occurrence",
   "metadata": {
    "scrolled": true
   },
   "outputs": [
    {
     "data": {
      "application/vnd.jupyter.widget-view+json": {
       "model_id": "415ca95697e34cff9b987c859b4dc4f9",
       "version_major": 2,
       "version_minor": 0
      },
      "text/plain": [
       "  0%|          | 0/59 [00:00<?, ?it/s]"
      ]
     },
     "metadata": {},
     "output_type": "display_data"
    },
    {
     "name": "stdout",
     "output_type": "stream",
     "text": [
      "morning money 650\n",
      "evening money 650\n",
      "morning money 900\n",
      "evening money 900\n",
      "morning money 1200\n",
      "evening money 1200\n",
      "morning money 1800\n",
      "evening money 1800\n",
      "morning money 2400\n",
      "evening money 2400\n",
      "morning money 3350\n",
      "evening money 3350\n",
      "morning money 4550\n",
      "evening money 4550\n",
      "morning money 5250\n",
      "evening money 5250\n",
      "morning money 5800\n",
      "evening money 5800\n",
      "morning money 6500\n",
      "evening money 6500\n",
      "morning money 7350\n",
      "evening money 7350\n",
      "morning money 8350\n",
      "evening money 8350\n",
      "morning money 9750\n",
      "evening money 9750\n",
      "morning money 11450\n",
      "evening money 11450\n",
      "morning money 13500\n",
      "evening money 13500\n",
      "morning money 15750\n",
      "evening money 15750\n",
      "morning money 18600\n",
      "evening money 18600\n",
      "morning money 20700\n",
      "evening money 20700\n",
      "morning money 21600\n",
      "evening money 21600\n",
      "morning money 22450\n",
      "evening money 22450\n",
      "morning money 23700\n",
      "evening money 23700\n",
      "morning money 26600\n",
      "evening money 26600\n",
      "morning money 31550\n",
      "evening money 31550\n",
      "morning money 39000\n",
      "evening money 39000\n",
      "morning money 45650\n",
      "evening money 45650\n",
      "morning money 50550\n",
      "evening money 50550\n",
      "morning money 51900\n",
      "evening money 51900\n",
      "morning money 52400\n",
      "evening money 52400\n",
      "morning money 52900\n",
      "evening money 52900\n",
      "morning money 53700\n",
      "evening money 53700\n",
      "morning money 54550\n",
      "evening money 54550\n",
      "morning money 55200\n",
      "evening money 55200\n",
      "morning money 56100\n",
      "evening money 56100\n",
      "morning money 57900\n",
      "evening money 57900\n",
      "morning money 59800\n",
      "evening money 59800\n",
      "morning money 61900\n",
      "evening money 61900\n",
      "morning money 62000\n",
      "evening money 62000\n",
      "morning money 62050\n",
      "evening money 62050\n",
      "morning money 62200\n",
      "evening money 62200\n",
      "morning money 62500\n",
      "evening money 62500\n",
      "morning money 62950\n",
      "evening money 62950\n",
      "morning money 63400\n",
      "evening money 63400\n",
      "morning money 63400\n",
      "evening money 63400\n",
      "morning money 63400\n",
      "evening money 63400\n",
      "morning money 63400\n",
      "evening money 63400\n",
      "morning money 63400\n",
      "evening money 63400\n",
      "morning money 63400\n",
      "evening money 63400\n",
      "morning money 63400\n",
      "evening money 63400\n",
      "morning money 63400\n",
      "evening money 63400\n",
      "morning money 63400\n",
      "evening money 63400\n",
      "morning money 63400\n",
      "evening money 63400\n",
      "morning money 63400\n",
      "evening money 63400\n",
      "morning money 63400\n",
      "evening money 63400\n",
      "morning money 63400\n",
      "evening money 63400\n",
      "morning money 63400\n",
      "evening money 63400\n",
      "morning money 63400\n",
      "evening money 63400\n",
      "morning money 63400\n",
      "evening money 63400\n",
      "morning money 63400\n",
      "evening money 63400\n",
      "morning money 63400\n",
      "evening money 63400\n"
     ]
    }
   ],
   "source": [
    "# day: [vertices]\n",
    "G = deepcopy(G_copy)\n",
    "history = defaultdict(list)\n",
    "history[0].extend([150, 387, 1782, 3706])\n",
    "for node in history[0]:\n",
    "    G.nodes[node][\"status\"] = \"affected\"\n",
    "# max_money = 0\n",
    "affected = set(history[0])\n",
    "morning_money = [BUDGET]\n",
    "evening_money = [BUDGET - sum([CONTRACT_COST_BY_ONE_NEIGHBOR * G.degree(node) for node in history[0]])]\n",
    "for cur_day in notebook.tqdm(range(1, DAY_LIMIT)):\n",
    "    cur_affected_nodes = set()\n",
    "    for node in ultra_cool_nodes:\n",
    "        aff, neigh = get_amount_of_affected_nodes(G, node)\n",
    "        if G.nodes[node][\"status\"] == \"not affected\" and aff / neigh >= 0.18:\n",
    "            cur_affected_nodes.add(node)\n",
    "    morning_money.append(evening_money[cur_day - 1] + affect_nodes(G, list(cur_affected_nodes - set(history[cur_day - 1]))))\n",
    "    print(f\"morning money {morning_money[-1]}\")\n",
    "    cur_contract_nodes = {} # node: highest_neighbor_degree\n",
    "#     if morning_money[-1] <= evening_money[-1]:\n",
    "#         for node in ultra_cool_nodes:\n",
    "#             if G.nodes[node][\"status\"] == \"not affected\" and morning_money[cur_day] // CONTRACT_COST_BY_ONE_NEIGHBOR >= G.degree(node):\n",
    "#     #             tmp_max_degree_node = None\n",
    "#     #             tmp_max_degree = -1\n",
    "#                 max_deg = 1\n",
    "#                 max_node = None\n",
    "#                 for neigh in G.neighbors(node):\n",
    "#                     aff, neigh_cnt = get_amount_of_affected_nodes(G, neigh)\n",
    "#                     if max_node is None:\n",
    "#                         max_node = neigh\n",
    "#                         max_deg = neigh_cnt\n",
    "#                     elif neigh_cnt / G.degree(node) > max_deg:\n",
    "#                         max_node = neigh\n",
    "#                         max_deg = neigh_cnt\n",
    "#                 cur_contract_nodes[node] = max_deg\n",
    "#     #                 if neigh_cnt in range(1, 10) or (aff / neigh_cnt < 0.18 and (aff + 1) / neigh_cnt >= 0.18):\n",
    "#     #                     if tmp_max_degree_node is None:\n",
    "#     #                         tmp_max_degree_node = neigh\n",
    "#     #                         tmp_max_degree = neigh_cnt\n",
    "#     #                     elif neigh_cnt > tmp_max_degree:\n",
    "#     #                         tmp_max_degree_node = neigh\n",
    "#     #                         tmp_max_degree = neigh_cnt\n",
    "#     #             cur_contract_nodes[node] = tmp_max_degree\n",
    "#         cur_contract_nodes = {k: v for k, v in sorted(cur_contract_nodes.items(), key=lambda item: item[1], reverse=True)}\n",
    "#         cur_contract_nodes = {k: v for k, v in cur_contract_nodes.items() if v > 0}\n",
    "#         costs = list(map(lambda x: G.degree(x) * CONTRACT_COST_BY_ONE_NEIGHBOR, list(cur_contract_nodes.keys())))\n",
    "#         try:\n",
    "#             min_cost = min(costs)\n",
    "#         except ValueError as e:\n",
    "#             min_cost = None\n",
    "#         cur_contract_nodes_idx = []\n",
    "#         tmp_money = morning_money[cur_day]\n",
    "#         i = 0\n",
    "#         while i < len(costs) and min_cost is not None and min_cost <= tmp_money:\n",
    "#             if costs[i] <= tmp_money:\n",
    "#                 cur_contract_nodes_idx.append(i)\n",
    "#                 tmp_money -= costs[i]\n",
    "#             i += 1\n",
    "# #         print(cur_contract_nodes_idx)\n",
    "#         cur_contract_nodes = np.array(list(cur_contract_nodes.keys()))[cur_contract_nodes_idx][:CONTRACT_LIMIT_PER_DAY]\n",
    "#         print(cur_contract_nodes)\n",
    "# #     print(cur_contract_nodes)\n",
    "#         for node in cur_contract_nodes:\n",
    "#             G.nodes[node][\"status\"] = \"affected\"\n",
    "    evening_money.append(morning_money[cur_day] -  sum([CONTRACT_COST_BY_ONE_NEIGHBOR * G.degree(node) for node in cur_contract_nodes]))\n",
    "    print(f\"evening money {evening_money[-1]}\")\n",
    "#     if cur_money > max_money:\n",
    "#         max_money = cur_money\n",
    "    history[cur_day].extend(cur_contract_nodes)"
   ]
  },
  {
   "cell_type": "code",
   "execution_count": 120,
   "id": "decent-camcorder",
   "metadata": {},
   "outputs": [
    {
     "data": {
      "image/png": "[encoded data removed]",
      "text/plain": [
       "<Figure size 1440x720 with 1 Axes>"
      ]
     },
     "metadata": {},
     "output_type": "display_data"
    }
   ],
   "source": [
    "fig, ax = plt.subplots(1, 1, figsize=(20, 10))\n",
    "ax.plot(range(DAY_LIMIT), morning_money, linestyle=\"dashed\", label=\"Morning money before contracts\")\n",
    "ax.plot(range(DAY_LIMIT), evening_money, label=\"Evening money after contracts\")\n",
    "plt.legend()\n",
    "plt.draw()"
   ]
  },
  {
   "cell_type": "code",
   "execution_count": 123,
   "id": "verified-greek",
   "metadata": {},
   "outputs": [
    {
     "data": {
      "text/plain": [
       "defaultdict(list,\n",
       "            {0: [387, 1782, 3706],\n",
       "             1: [],\n",
       "             2: [],\n",
       "             3: [],\n",
       "             4: [],\n",
       "             5: [],\n",
       "             6: [],\n",
       "             7: [],\n",
       "             8: [],\n",
       "             9: [],\n",
       "             10: [],\n",
       "             11: [],\n",
       "             12: [],\n",
       "             13: [],\n",
       "             14: [],\n",
       "             15: [],\n",
       "             16: [],\n",
       "             17: [],\n",
       "             18: [],\n",
       "             19: [],\n",
       "             20: [],\n",
       "             21: [],\n",
       "             22: [],\n",
       "             23: [],\n",
       "             24: [],\n",
       "             25: [],\n",
       "             26: [],\n",
       "             27: [],\n",
       "             28: [],\n",
       "             29: [],\n",
       "             30: [],\n",
       "             31: [],\n",
       "             32: [],\n",
       "             33: [],\n",
       "             34: [],\n",
       "             35: [],\n",
       "             36: [],\n",
       "             37: [],\n",
       "             38: [],\n",
       "             39: [],\n",
       "             40: [],\n",
       "             41: [],\n",
       "             42: [],\n",
       "             43: [],\n",
       "             44: [],\n",
       "             45: [],\n",
       "             46: [],\n",
       "             47: [],\n",
       "             48: [],\n",
       "             49: [],\n",
       "             50: [],\n",
       "             51: [],\n",
       "             52: [],\n",
       "             53: [],\n",
       "             54: [],\n",
       "             55: [],\n",
       "             56: [],\n",
       "             57: [],\n",
       "             58: [],\n",
       "             59: []})"
      ]
     },
     "execution_count": 123,
     "metadata": {},
     "output_type": "execute_result"
    }
   ],
   "source": [
    "history"
   ]
  },
  {
   "cell_type": "code",
   "execution_count": 124,
   "id": "measured-bosnia",
   "metadata": {},
   "outputs": [],
   "source": [
    "history_to_dump = {k: v for k, v in history.items() if len(v) > 0}"
   ]
  },
  {
   "cell_type": "code",
   "execution_count": 125,
   "id": "rough-interaction",
   "metadata": {},
   "outputs": [],
   "source": [
    "reverse_mapping = {v: k for k, v in mapping.items()}"
   ]
  },
  {
   "cell_type": "code",
   "execution_count": 126,
   "id": "bronze-liverpool",
   "metadata": {},
   "outputs": [],
   "source": [
    "for day in history_to_dump:\n",
    "    history_to_dump[day] = list(map(lambda x: reverse_mapping[x], history_to_dump[day]))"
   ]
  },
  {
   "cell_type": "code",
   "execution_count": 127,
   "id": "brief-indonesian",
   "metadata": {},
   "outputs": [
    {
     "data": {
      "text/plain": [
       "{0: [167, 3057, 3775]}"
      ]
     },
     "execution_count": 127,
     "metadata": {},
     "output_type": "execute_result"
    }
   ],
   "source": [
    "history_to_dump"
   ]
  },
  {
   "cell_type": "code",
   "execution_count": 176,
   "id": "material-amateur",
   "metadata": {},
   "outputs": [],
   "source": [
    "import json\n",
    "import re"
   ]
  },
  {
   "cell_type": "code",
   "execution_count": 178,
   "id": "electrical-modification",
   "metadata": {},
   "outputs": [],
   "source": [
    "with open(\"./more_smart_baseline.txt\", 'w') as f:\n",
    "    json.dump(history_to_dump, f, ensure_ascii=True)"
   ]
  },
  {
   "cell_type": "code",
   "execution_count": 177,
   "id": "assured-anchor",
   "metadata": {},
   "outputs": [
    {
     "ename": "UnsupportedOperation",
     "evalue": "not readable",
     "output_type": "error",
     "traceback": [
      "\u001b[0;31m---------------------------------------------------------------------------\u001b[0m",
      "\u001b[0;31mUnsupportedOperation\u001b[0m                      Traceback (most recent call last)",
      "\u001b[0;32m<ipython-input-177-3a6c438d3a2a>\u001b[0m in \u001b[0;36m<module>\u001b[0;34m\u001b[0m\n\u001b[1;32m      1\u001b[0m \u001b[0mnew_file\u001b[0m \u001b[0;34m=\u001b[0m \u001b[0;34m[\u001b[0m\u001b[0;34m]\u001b[0m\u001b[0;34m\u001b[0m\u001b[0;34m\u001b[0m\u001b[0m\n\u001b[1;32m      2\u001b[0m \u001b[0;32mwith\u001b[0m \u001b[0mopen\u001b[0m\u001b[0;34m(\u001b[0m\u001b[0;34m\"./more_smart_baseline.txt\"\u001b[0m\u001b[0;34m,\u001b[0m \u001b[0;34m'w'\u001b[0m\u001b[0;34m)\u001b[0m \u001b[0;32mas\u001b[0m \u001b[0mf\u001b[0m\u001b[0;34m:\u001b[0m\u001b[0;34m\u001b[0m\u001b[0;34m\u001b[0m\u001b[0m\n\u001b[0;32m----> 3\u001b[0;31m     \u001b[0;32mfor\u001b[0m \u001b[0mline\u001b[0m \u001b[0;32min\u001b[0m \u001b[0mf\u001b[0m\u001b[0;34m:\u001b[0m\u001b[0;34m\u001b[0m\u001b[0;34m\u001b[0m\u001b[0m\n\u001b[0m\u001b[1;32m      4\u001b[0m         \u001b[0mnew_file\u001b[0m\u001b[0;34m.\u001b[0m\u001b[0mappend\u001b[0m\u001b[0;34m(\u001b[0m\u001b[0mre\u001b[0m\u001b[0;34m.\u001b[0m\u001b[0msub\u001b[0m\u001b[0;34m(\u001b[0m\u001b[0;34m'\"'\u001b[0m\u001b[0;34m,\u001b[0m \u001b[0;34m''\u001b[0m\u001b[0;34m,\u001b[0m \u001b[0mline\u001b[0m\u001b[0;34m)\u001b[0m\u001b[0;34m)\u001b[0m\u001b[0;34m\u001b[0m\u001b[0;34m\u001b[0m\u001b[0m\n\u001b[1;32m      5\u001b[0m \u001b[0mnew_file\u001b[0m \u001b[0;34m=\u001b[0m \u001b[0;34m\"\\n\"\u001b[0m\u001b[0;34m.\u001b[0m\u001b[0mjoin\u001b[0m\u001b[0;34m(\u001b[0m\u001b[0mnew_file\u001b[0m\u001b[0;34m)\u001b[0m\u001b[0;34m\u001b[0m\u001b[0;34m\u001b[0m\u001b[0m\n",
      "\u001b[0;31mUnsupportedOperation\u001b[0m: not readable"
     ]
    }
   ],
   "source": [
    "new_file = []\n",
    "with open(\"./more_smart_baseline.txt\", 'w') as f:\n",
    "    for line in f:\n",
    "        new_file.append(re.sub('\"', '', line))\n",
    "new_file = \"\\n\".join(new_file)"
   ]
  }
 ],
 "metadata": {
  "kernelspec": {
   "display_name": "Python 3",
   "language": "python",
   "name": "python3"
  },
  "language_info": {
   "codemirror_mode": {
    "name": "ipython",
    "version": 3
   },
   "file_extension": ".py",
   "mimetype": "text/x-python",
   "name": "python",
   "nbconvert_exporter": "python",
   "pygments_lexer": "ipython3",
   "version": "3.8.5"
  }
 },
 "nbformat": 4,
 "nbformat_minor": 5
}
